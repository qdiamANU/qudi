{
 "cells": [
  {
   "cell_type": "code",
   "execution_count": 1,
   "metadata": {
    "collapsed": true
   },
   "outputs": [],
   "source": [
    "# -*- coding: utf-8 -*-\n",
    "import sys\n",
    "import numpy as np\n",
    "from thirdparty.spectrum_instruments.pyspcm import *\n",
    "import matplotlib.pyplot as plt"
   ]
  },
  {
   "cell_type": "code",
   "execution_count": 2,
   "metadata": {
    "collapsed": true
   },
   "outputs": [],
   "source": [
    "sys.path.append(r'‪C:\\Users\\Andrew\\Desktop')"
   ]
  },
  {
   "cell_type": "code",
   "execution_count": 3,
   "metadata": {
    "collapsed": true
   },
   "outputs": [],
   "source": [
    "import awg_debug"
   ]
  },
  {
   "cell_type": "code",
   "execution_count": 4,
   "metadata": {
    "collapsed": true
   },
   "outputs": [],
   "source": [
    "awg = awg_debug.AWGDebugClass()"
   ]
  },
  {
   "cell_type": "code",
   "execution_count": 5,
   "metadata": {},
   "outputs": [],
   "source": [
    "awg.on_activate()"
   ]
  },
  {
   "cell_type": "code",
   "execution_count": 31,
   "metadata": {
    "scrolled": true
   },
   "outputs": [
    {
     "name": "stdout",
     "output_type": "stream",
     "text": [
      "Uploaded segment 1 of 100.\n",
      "Uploaded segment 2 of 100.\n",
      "Uploaded segment 3 of 100.\n",
      "Uploaded segment 4 of 100.\n",
      "Uploaded segment 5 of 100.\n",
      "Uploaded segment 6 of 100.\n",
      "Uploaded segment 7 of 100.\n",
      "Uploaded segment 8 of 100.\n",
      "Uploaded segment 9 of 100.\n",
      "Uploaded segment 10 of 100.\n",
      "Uploaded segment 11 of 100.\n",
      "Uploaded segment 12 of 100.\n",
      "Uploaded segment 13 of 100.\n",
      "Uploaded segment 14 of 100.\n",
      "Uploaded segment 15 of 100.\n",
      "Uploaded segment 16 of 100.\n",
      "Uploaded segment 17 of 100.\n",
      "Uploaded segment 18 of 100.\n",
      "Uploaded segment 19 of 100.\n",
      "Uploaded segment 20 of 100.\n",
      "Uploaded segment 21 of 100.\n",
      "Uploaded segment 22 of 100.\n",
      "Uploaded segment 23 of 100.\n",
      "Uploaded segment 24 of 100.\n",
      "Uploaded segment 25 of 100.\n",
      "Uploaded segment 26 of 100.\n",
      "Uploaded segment 27 of 100.\n",
      "Uploaded segment 28 of 100.\n",
      "Uploaded segment 29 of 100.\n",
      "Uploaded segment 30 of 100.\n",
      "Uploaded segment 31 of 100.\n",
      "Uploaded segment 32 of 100.\n",
      "Uploaded segment 33 of 100.\n",
      "Uploaded segment 34 of 100.\n",
      "Uploaded segment 35 of 100.\n",
      "Uploaded segment 36 of 100.\n",
      "Uploaded segment 37 of 100.\n",
      "Uploaded segment 38 of 100.\n",
      "Uploaded segment 39 of 100.\n",
      "Uploaded segment 40 of 100.\n",
      "Uploaded segment 41 of 100.\n",
      "Uploaded segment 42 of 100.\n",
      "Uploaded segment 43 of 100.\n",
      "Uploaded segment 44 of 100.\n",
      "Uploaded segment 45 of 100.\n",
      "Uploaded segment 46 of 100.\n",
      "Uploaded segment 47 of 100.\n",
      "Uploaded segment 48 of 100.\n",
      "Uploaded segment 49 of 100.\n",
      "Uploaded segment 50 of 100.\n",
      "Uploaded segment 51 of 100.\n",
      "Uploaded segment 52 of 100.\n",
      "Uploaded segment 53 of 100.\n",
      "Uploaded segment 54 of 100.\n",
      "Uploaded segment 55 of 100.\n",
      "Uploaded segment 56 of 100.\n",
      "Uploaded segment 57 of 100.\n",
      "Uploaded segment 58 of 100.\n",
      "Uploaded segment 59 of 100.\n",
      "Uploaded segment 60 of 100.\n",
      "Uploaded segment 61 of 100.\n",
      "Uploaded segment 62 of 100.\n",
      "Uploaded segment 63 of 100.\n",
      "Uploaded segment 64 of 100.\n",
      "Uploaded segment 65 of 100.\n",
      "Uploaded segment 66 of 100.\n",
      "Uploaded segment 67 of 100.\n",
      "Uploaded segment 68 of 100.\n",
      "Uploaded segment 69 of 100.\n",
      "Uploaded segment 70 of 100.\n",
      "Uploaded segment 71 of 100.\n",
      "Uploaded segment 72 of 100.\n",
      "Uploaded segment 73 of 100.\n",
      "Uploaded segment 74 of 100.\n",
      "Uploaded segment 75 of 100.\n",
      "Uploaded segment 76 of 100.\n",
      "Uploaded segment 77 of 100.\n",
      "Uploaded segment 78 of 100.\n",
      "Uploaded segment 79 of 100.\n",
      "Uploaded segment 80 of 100.\n",
      "Uploaded segment 81 of 100.\n",
      "Uploaded segment 82 of 100.\n",
      "Uploaded segment 83 of 100.\n",
      "Uploaded segment 84 of 100.\n",
      "Uploaded segment 85 of 100.\n",
      "Uploaded segment 86 of 100.\n",
      "Uploaded segment 87 of 100.\n",
      "Uploaded segment 88 of 100.\n",
      "Uploaded segment 89 of 100.\n",
      "Uploaded segment 90 of 100.\n",
      "Uploaded segment 91 of 100.\n",
      "Uploaded segment 92 of 100.\n",
      "Uploaded segment 93 of 100.\n",
      "Uploaded segment 94 of 100.\n",
      "Uploaded segment 95 of 100.\n",
      "Uploaded segment 96 of 100.\n",
      "Uploaded segment 97 of 100.\n",
      "Uploaded segment 98 of 100.\n",
      "Uploaded segment 99 of 100.\n",
      "Uploaded segment 100 of 100.\n",
      "Error! 80000001000000c7 != 00000001000000c7\n"
     ]
    },
    {
     "data": {
      "text/plain": [
       "0"
      ]
     },
     "execution_count": 31,
     "metadata": {},
     "output_type": "execute_result"
    }
   ],
   "source": [
    "frequency = list(np.arange(1e6, 101e6, 1e6))\n",
    "amplitude = 4.0\n",
    "llMemSamples=1024*256\n",
    "sample_rate=1.25e9\n",
    "loop=100\n",
    "awg.set_list(frequency=frequency, amplitude=amplitude, llMemSamples=llMemSamples, sample_rate=sample_rate, loop=loop)\n",
    "awg.restart()"
   ]
  },
  {
   "cell_type": "code",
   "execution_count": null,
   "metadata": {},
   "outputs": [],
   "source": []
  },
  {
   "cell_type": "code",
   "execution_count": 33,
   "metadata": {},
   "outputs": [
    {
     "data": {
      "text/plain": [
       "0"
      ]
     },
     "execution_count": 33,
     "metadata": {},
     "output_type": "execute_result"
    }
   ],
   "source": [
    "awg.restart()"
   ]
  },
  {
   "cell_type": "code",
   "execution_count": null,
   "metadata": {},
   "outputs": [],
   "source": [
    "awg.pulser_off()"
   ]
  },
  {
   "cell_type": "code",
   "execution_count": 26,
   "metadata": {},
   "outputs": [
    {
     "data": {
      "text/plain": [
       "0"
      ]
     },
     "execution_count": 26,
     "metadata": {},
     "output_type": "execute_result"
    }
   ],
   "source": [
    "awg._spcm_dwSetParam_i32(SPC_M2CMD, M2CMD_CARD_RESET)"
   ]
  },
  {
   "cell_type": "code",
   "execution_count": null,
   "metadata": {
    "scrolled": true
   },
   "outputs": [],
   "source": [
    "#awg.force_trigger()"
   ]
  },
  {
   "cell_type": "code",
   "execution_count": null,
   "metadata": {},
   "outputs": [],
   "source": [
    "#awg.read_out_error()"
   ]
  },
  {
   "cell_type": "code",
   "execution_count": null,
   "metadata": {},
   "outputs": [],
   "source": [
    "#awg.pulser_on()"
   ]
  },
  {
   "cell_type": "code",
   "execution_count": null,
   "metadata": {},
   "outputs": [],
   "source": [
    "print(awg._spcm_dwGetParam_i32(SPC_M2STATUS))\n",
    "print('{:08x}'.format(awg._spcm_dwGetParam_i32(SPC_CARDMODE)))"
   ]
  },
  {
   "cell_type": "code",
   "execution_count": 35,
   "metadata": {},
   "outputs": [
    {
     "name": "stdout",
     "output_type": "stream",
     "text": [
      "7\n",
      "0\n"
     ]
    }
   ],
   "source": [
    "spcm_dwSetParam_i32(awg._hCard, SPC_MEMTEST, 1)\n",
    "print(awg._spcm_dwGetParam_i32(SPC_M2STATUS))\n",
    "# just 384 zeros for the timetagger\n",
    "llMemSample = (1024*256*50+50*384)*50\n",
    "qwBufferSize = uint64(llMemSample * 2 * 1)\n",
    "pvBuffer     = create_string_buffer(qwBufferSize.value)\n",
    "# calculate the data\n",
    "read_out_buffer = cast(pvBuffer, ptr16)\n",
    "\n",
    "# it is assumed, that the Buffer memory has been allocated and is already filled with valid data\n",
    "spcm_dwDefTransfer_i64(awg._hCard, SPCM_BUF_DATA, SPCM_DIR_CARDTOPC, 0, read_out_buffer, 0, qwBufferSize)\n",
    "spcm_dwSetParam_i32(awg._hCard, SPC_M2CMD, M2CMD_DATA_STARTDMA | M2CMD_DATA_WAITDMA)\n",
    "spcm_dwSetParam_i32(awg._hCard, SPC_MEMTEST, 0)\n",
    "print(awg.read_out_error())"
   ]
  },
  {
   "cell_type": "code",
   "execution_count": 36,
   "metadata": {},
   "outputs": [],
   "source": [
    "a = np.zeros(llMemSample//100)\n",
    "b = np.zeros(llMemSample//100)\n",
    "c = np.zeros(llMemSample//100)\n",
    "d = np.zeros(llMemSample//100)\n",
    "for i in range(llMemSample//100):\n",
    "    item = np.uint16(read_out_buffer[i*100])\n",
    "    a[i] = (item & 0x8000) >> 15\n",
    "    b[i] = (item & 0x4000)>> 14\n",
    "    d[i] = np.int16((item & 0x3fff) << 2)/2**15\n",
    "    c[i] = read_out_buffer[i]/2**15"
   ]
  },
  {
   "cell_type": "code",
   "execution_count": 60,
   "metadata": {},
   "outputs": [
    {
     "data": {
      "image/png": "[encoded data removed]",
      "text/plain": [
       "<matplotlib.figure.Figure at 0x3080b1f080>"
      ]
     },
     "metadata": {},
     "output_type": "display_data"
    }
   ],
   "source": [
    "plt.plot(a+3)\n",
    "plt.plot(b+1.5)\n",
    "#plt.plot(c)\n",
    "plt.plot(d)\n",
    "#plt.xlim((256*1024*100+384)*1/100-100, (256*1024*100+384)*1/100+100)\n",
    "plt.show()"
   ]
  },
  {
   "cell_type": "code",
   "execution_count": 51,
   "metadata": {},
   "outputs": [],
   "source": [
    "t = np.arange(llMemSamples)/sample_rate\n",
    "a_ch1_signal = np.concatenate((np.sin(t * (frequency[0]) * 2*np.pi), np.zeros(384), np.sin(t * (frequency[1]) * 2*np.pi)))\n",
    "d_ch1_signal = np.concatenate((np.full(llMemSamples, 1), np.full(384, 0), np.full(llMemSamples, 1)))\n",
    "d_ch2_signal = np.concatenate((np.full(llMemSamples, 1), np.full(384, 0), np.full(llMemSamples, 0)))"
   ]
  },
  {
   "cell_type": "code",
   "execution_count": 55,
   "metadata": {},
   "outputs": [
    {
     "data": {
      "image/png": "[encoded data removed]",
      "text/plain": [
       "<matplotlib.figure.Figure at 0x30803d2c50>"
      ]
     },
     "metadata": {},
     "output_type": "display_data"
    }
   ],
   "source": [
    "plt.plot(d_ch1_signal[::100]+3)\n",
    "plt.plot(d_ch2_signal[::100]+1.5)\n",
    "plt.plot(a_ch1_signal[::100])\n",
    "plt.xlim((256*1024)//100-100, (256*1024)//100+100)\n",
    "plt.show()"
   ]
  },
  {
   "cell_type": "code",
   "execution_count": null,
   "metadata": {
    "collapsed": true
   },
   "outputs": [],
   "source": []
  }
 ],
 "metadata": {
  "kernelspec": {
   "display_name": "Python 3",
   "language": "python",
   "name": "python3"
  },
  "language_info": {
   "codemirror_mode": {
    "name": "ipython",
    "version": 3
   },
   "file_extension": ".py",
   "mimetype": "text/x-python",
   "name": "python",
   "nbconvert_exporter": "python",
   "pygments_lexer": "ipython3",
   "version": "3.6.3"
  }
 },
 "nbformat": 4,
 "nbformat_minor": 2
}
